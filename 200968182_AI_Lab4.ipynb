{
  "cells": [
    {
      "cell_type": "code",
      "execution_count": null,
      "metadata": {
        "colab": {
          "base_uri": "https://localhost:8080/"
        },
        "id": "pE3RFC2T9MzQ",
        "outputId": "d632d5da-6d54-412a-a8ad-639260e03567"
      },
      "outputs": [
        {
          "name": "stdout",
          "output_type": "stream",
          "text": [
            "Looking in indexes: https://pypi.org/simple, https://us-python.pkg.dev/colab-wheels/public/simple/\n",
            "Collecting easyAI\n",
            "  Downloading easyAI-2.0.12-py3-none-any.whl (42 kB)\n",
            "\u001b[2K     \u001b[90m━━━━━━━━━━━━━━━━━━━━━━━━━━━━━━━━━━━━━━━━\u001b[0m \u001b[32m42.2/42.2 KB\u001b[0m \u001b[31m1.8 MB/s\u001b[0m eta \u001b[36m0:00:00\u001b[0m\n",
            "\u001b[?25hRequirement already satisfied: numpy in /usr/local/lib/python3.8/dist-packages (from easyAI) (1.22.4)\n",
            "Installing collected packages: easyAI\n",
            "Successfully installed easyAI-2.0.12\n"
          ]
        }
      ],
      "source": [
        "# installing easyAI\n",
        "\n",
        "!pip install easyAI"
      ]
    },
    {
      "cell_type": "markdown",
      "metadata": {
        "id": "qzgRbovU9Ws1"
      },
      "source": [
        "### Write a python program to define and implement a tic—tac-toe game with one human player. "
      ]
    },
    {
      "cell_type": "code",
      "execution_count": null,
      "metadata": {
        "id": "GhjVXT6b9Xar"
      },
      "outputs": [],
      "source": [
        "from easyAI import TwoPlayerGame\n",
        "from easyAI.Player import Human_Player\n",
        "\n",
        "#defining a class for Tic Tac Toe game and all required functions for the enviornment\n",
        "class TicTacToe(TwoPlayerGame):\n",
        "    \"\"\"The board positions are numbered as follows:\n",
        "    1 2 3\n",
        "    4 5 6\n",
        "    7 8 9\n",
        "    \"\"\"\n",
        "\n",
        "    def __init__(self, players):\n",
        "        self.players = players\n",
        "        self.board = [0 for i in range(9)]\n",
        "        self.current_player = 1  # player 1 starts.\n",
        "\n",
        "    def possible_moves(self):\n",
        "        return [i + 1 for i, e in enumerate(self.board) if e == 0]\n",
        "\n",
        "    def make_move(self, move):\n",
        "        self.board[int(move) - 1] = self.current_player\n",
        "\n",
        "    def unmake_move(self, move):  # optional method (speeds up the AI)\n",
        "        self.board[int(move) - 1] = 0\n",
        "\n",
        "    def lose(self):\n",
        "        \"\"\" Has the opponent \"three in line ?\" \"\"\"\n",
        "        return any(\n",
        "            [\n",
        "                all([(self.board[c - 1] == self.opponent_index) for c in line])\n",
        "                for line in [\n",
        "                    [1, 2, 3],\n",
        "                    [4, 5, 6],\n",
        "                    [7, 8, 9],  # horiz.\n",
        "                    [1, 4, 7],\n",
        "                    [2, 5, 8],\n",
        "                    [3, 6, 9],  # vertical\n",
        "                    [1, 5, 9],\n",
        "                    [3, 5, 7],\n",
        "                ]\n",
        "            ]\n",
        "        )  # diagonal\n",
        "\n",
        "    def is_over(self):\n",
        "        return (self.possible_moves() == []) or self.lose()\n",
        "\n",
        "    def show(self):\n",
        "        print(\n",
        "            \"\\n\"\n",
        "            + \"\\n\".join(\n",
        "                [\n",
        "                    \" \".join([[\".\", \"O\", \"X\"][self.board[3 * j + i]] for i in range(3)])\n",
        "                    for j in range(3)\n",
        "                ]\n",
        "            )\n",
        "        )\n",
        "\n",
        "    def scoring(self):\n",
        "        return -1 if self.lose() else 1"
      ]
    },
    {
      "cell_type": "code",
      "execution_count": null,
      "metadata": {
        "colab": {
          "base_uri": "https://localhost:8080/"
        },
        "id": "zsMIuhIm9hwI",
        "outputId": "64977cda-000e-47dd-ee94-64b54a5969e0"
      },
      "outputs": [
        {
          "name": "stdout",
          "output_type": "stream",
          "text": [
            "\n",
            ". . .\n",
            ". . .\n",
            ". . .\n",
            "\n",
            "Player 1 what do you play ? 1\n",
            "\n",
            "Move #1: player 1 plays 1 :\n",
            "\n",
            "O . .\n",
            ". . .\n",
            ". . .\n",
            "\n",
            "Move #2: player 2 plays 2 :\n",
            "\n",
            "O X .\n",
            ". . .\n",
            ". . .\n",
            "\n",
            "Player 1 what do you play ? 9\n",
            "\n",
            "Move #3: player 1 plays 9 :\n",
            "\n",
            "O X .\n",
            ". . .\n",
            ". . O\n",
            "\n",
            "Move #4: player 2 plays 5 :\n",
            "\n",
            "O X .\n",
            ". X .\n",
            ". . O\n",
            "\n",
            "Player 1 what do you play ? 7\n",
            "\n",
            "Move #5: player 1 plays 7 :\n",
            "\n",
            "O X .\n",
            ". X .\n",
            "O . O\n",
            "\n",
            "Move #6: player 2 plays 8 :\n",
            "\n",
            "O X .\n",
            ". X .\n",
            "O X O\n"
          ]
        }
      ],
      "source": [
        "from easyAI import AI_Player, Negamax\n",
        "\n",
        "if __name__ == \"__main__\":\n",
        "    TicTacToe([Human_Player(), AI_Player(Negamax(5))]).play()"
      ]
    },
    {
      "cell_type": "markdown",
      "metadata": {
        "id": "yoWECM4Q946V"
      },
      "source": [
        "### Solve the game using the built in algorithms and compare the solutions. "
      ]
    },
    {
      "cell_type": "markdown",
      "metadata": {
        "id": "m8UFfEjh9-C4"
      },
      "source": [
        "#### Iterative Deepening Search"
      ]
    },
    {
      "cell_type": "code",
      "execution_count": null,
      "metadata": {
        "colab": {
          "base_uri": "https://localhost:8080/"
        },
        "id": "KUYKnA-g9-9R",
        "outputId": "f6c2c1eb-d46b-4277-a2a6-41282d29db65"
      },
      "outputs": [
        {
          "name": "stdout",
          "output_type": "stream",
          "text": [
            "d:2, a:1, m:1\n",
            "d:3, a:-1, m:1\n",
            "d:4, a:1, m:1\n",
            "d:5, a:-1, m:1\n",
            "d:6, a:1, m:1\n",
            "d:7, a:-1, m:1\n",
            "d:8, a:1, m:1\n"
          ]
        }
      ],
      "source": [
        "from easyAI import solve_with_iterative_deepening\n",
        "r,d,m = solve_with_iterative_deepening(\n",
        "    game=TicTacToe([]),\n",
        "    ai_depths=range(2,9),\n",
        "    win_score=100\n",
        ")"
      ]
    },
    {
      "cell_type": "markdown",
      "metadata": {
        "id": "ASVf0Q6y-Cwl"
      },
      "source": [
        "#### Depth First search"
      ]
    },
    {
      "cell_type": "code",
      "execution_count": null,
      "metadata": {
        "colab": {
          "base_uri": "https://localhost:8080/"
        },
        "id": "u8XWRz4t-G9j",
        "outputId": "fc1f1b73-0857-4c76-d195-ba887b4ea3aa"
      },
      "outputs": [
        {
          "name": "stdout",
          "output_type": "stream",
          "text": [
            "0\n"
          ]
        }
      ],
      "source": [
        "from easyAI import solve_with_depth_first_search\n",
        "u = solve_with_depth_first_search(\n",
        "    game=TicTacToe([]),\n",
        "    win_score=100\n",
        ")\n",
        "print(u)"
      ]
    },
    {
      "attachments": {},
      "cell_type": "markdown",
      "metadata": {
        "id": "1jDrCnXa-OSB"
      },
      "source": [
        "#### Depth First search v/s Iterative Deepening Search\n",
        "\n",
        "#### Depth First search\n",
        "With a DFS, we begin at the first node in the graph and continue to delve farther and further into it until we either discover new and undiscovered nodes or the answer.\n",
        "\n",
        "If the search algorithm runs out of branches to investigate, it will turn around and explore from the last place where it had the option of taking a new branch.\n",
        "\n",
        "Large graphs are problematic because DFS may examine the entire graph along a single path before discovering the answer by examining each node. The search might not end if the graph is endless. It's possible that this route is not the best one for getting to the answer.\n",
        "\n",
        "#### Iterative Deepening Search\n",
        "This issue is resolved by restricting the depth of any one path used by the DFS and incrementally raising this restriction.\n",
        "\n",
        "This makes sure that we never investigate nodes that are farther apart than a predetermined threshold for any iteration of the iven algorithm, effectively preventing us from exploring indefinitely.\n",
        "\n",
        "As a result, we never end up exploring along dead ends that go on forever because each path's length is limited after each iteration. Also, it implies that we track down the quickest route to the answer."
      ]
    }
  ],
  "metadata": {
    "colab": {
      "provenance": []
    },
    "kernelspec": {
      "display_name": "Python 3",
      "name": "python3"
    },
    "language_info": {
      "name": "python"
    }
  },
  "nbformat": 4,
  "nbformat_minor": 0
}
